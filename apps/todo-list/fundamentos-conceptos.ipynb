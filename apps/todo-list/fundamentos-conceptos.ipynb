{
 "cells": [
  {
   "cell_type": "markdown",
   "metadata": {},
   "source": [
    "# 5. Presentación del proyecto\n",
    "Vamos a realizar un proyecto donde vamos a elaborar una app para un to do list.\n",
    "\n",
    "### Estructura del proyecto\n",
    "Primero que todo vamos a crear una carpeta para alojar nuestra aplicación y posteriormente creamos y activamos nuestro ambiente virtual.\n",
    "Instalamos flask.\n",
    "\n",
    "Vamos a tener un directorio principal para la aplicación donde vamos a crear todos los módulos.\n",
    "\n",
    "todor\n",
    "├── __init__.py\n",
    "├── auth.py\n",
    "├── models.py\n",
    "├── static\n",
    "├── templates\n",
    "└── todo.py\n",
    "\n",
    "### Configuración de la aplicación\n",
    "Tenemos la opción de iniciar la app desde la carpeta con el módulo init pero la idea es crearlo en una función y pasarla a un archivo para que lo ejecute, en el init podemos configurar el debug y el secret key.\n",
    "\n",
    "### Blueprint y vistas\n",
    "Blueprint, dado que vamos a trabajar con varios módulos lo que hace es que nos ayudad a manejar las diferentes vistas y registrarlas.\n",
    "\n",
    "bp = Blueprint(\"todo\", __name__, url_prefix=\"todo/\") acá es donde ponemos como vamos a empezar nuestras vistas.\n",
    "\n",
    "### Plantilla de base de inicio\n",
    "Vamos a utilizar Bootstrap para ayudarnos es un framework de fronted no vamos a necesitar diseñar con css ya que hay modelos existentes.\n",
    "\n",
    "Desde la página de Bootstrap vamos a traer los links para css y js. \n",
    "\n",
    "### Plantilla de login y registrar usuario\n",
    "Vamos a crear dentro de templates una nueva carpeta llamada auth, donde vamos a menjar las plantillas de autenticación, con html5 podemos manejar un validador de datos con required y la longitud ```required minlength=\"4\" maxlength=\"20\"```\n",
    "\n",
    "### Resumen\n",
    "La sección de Estructura de una Aplicación - TodoList se centra en la creación de una aplicación web simple utilizando Flask. En esta sección, los estudiantes aprendieron cómo estructurar una aplicación de Flask y cómo utilizar los Blueprints para dividir la aplicación en módulos más pequeños.\n",
    "\n",
    "En la sección se presentó el proyecto TodoList y se explicará su estructura y su configuración. Los estudiantes aprendiron a cómo crear Blueprints para diferentes secciones de la aplicación, cómo crear vistas para cada una de las secciones y cómo utilizar las plantillas para mostrar la información en la aplicación.\n",
    "\n",
    "Además, se cubrió la creación de plantillas base y plantillas para el inicio de sesión y el registro de usuarios. Los estudiantes aprendierón cómo crear formularios de registro y cómo almacenar la información.\n",
    "\n",
    "Ahora, los estudiantes tendrán una comprensión sólida de cómo estructurar una aplicación de Flask y cómo crear un proyecto completo utilizando Flask.\n",
    "\n",
    "# 6. "
   ]
  }
 ],
 "metadata": {
  "language_info": {
   "name": "python"
  }
 },
 "nbformat": 4,
 "nbformat_minor": 2
}
