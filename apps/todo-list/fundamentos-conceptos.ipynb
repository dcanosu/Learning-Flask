{
 "cells": [
  {
   "cell_type": "markdown",
   "metadata": {},
   "source": [
    "# 5. Presentación del proyecto\n",
    "Vamos a realizar un proyecto donde vamos a elaborar una app para un to do list.\n",
    "\n",
    "### Estructura del proyecto\n",
    "Primero que todo vamos a crear una carpeta para alojar nuestra aplicación y posteriormente creamos y activamos nuestro ambiente virtual.\n",
    "Instalamos flask.\n",
    "\n",
    "Vamos a tener un directorio principal para la aplicación donde vamos a crear todos los módulos.\n",
    "\n",
    "todor\n",
    "├── __init__.py\n",
    "├── auth.py\n",
    "├── models.py\n",
    "├── static\n",
    "├── templates\n",
    "└── todo.py\n",
    "\n",
    "### Configuración de la aplicación\n",
    "Tenemos la opción de iniciar la app desde la carpeta con el módulo init pero la idea es crearlo en una función y pasarla a un archivo para que lo ejecute, en el init podemos configurar el debug y el secret key.\n",
    "\n",
    "### Blueprint y vistas\n",
    "Blueprint, dado que vamos a trabajar con varios módulos lo que hace es que nos ayudad a manejar las diferentes vistas y registrarlas.\n",
    "\n",
    "bp = Blueprint(\"todo\", __name__, url_prefix=\"todo/\") acá es donde ponemos como vamos a empezar nuestras vistas.\n",
    "\n",
    "### Plantilla de base de inicio\n",
    "Vamos a utilizar Bootstrap para ayudarnos es un framework de fronted no vamos a necesitar diseñar con css ya que hay modelos existentes.\n",
    "\n",
    "Desde la página de Bootstrap vamos a traer los links para css y js. "
   ]
  }
 ],
 "metadata": {
  "language_info": {
   "name": "python"
  }
 },
 "nbformat": 4,
 "nbformat_minor": 2
}
